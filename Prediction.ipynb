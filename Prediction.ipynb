{
 "cells": [
  {
   "cell_type": "code",
   "execution_count": 34,
   "metadata": {},
   "outputs": [
    {
     "data": {
      "text/plain": [
       "['/Users/santy/Projects/Fantasy-Premier-League/data/2020-21/cleaned_players.csv']"
      ]
     },
     "execution_count": 34,
     "metadata": {},
     "output_type": "execute_result"
    }
   ],
   "source": [
    "import glob\n",
    "playerData19_20 = glob.glob('/Users/santy/Projects/Fantasy-Premier-League/data/2019-20/cleaned*')\n",
    "playerData20_21 = glob.glob('/Users/santy/Projects/Fantasy-Premier-League/data/2020-21/cleaned*')\n",
    "playerData20_21"
   ]
  },
  {
   "cell_type": "code",
   "execution_count": 35,
   "metadata": {},
   "outputs": [
    {
     "name": "stdout",
     "output_type": "stream",
     "text": [
      "18\n",
      "Index(['first_name', 'second_name', 'goals_scored', 'assists', 'total_points',\n",
      "       'minutes', 'goals_conceded', 'creativity', 'influence', 'threat',\n",
      "       'bonus', 'bps', 'ict_index', 'clean_sheets', 'red_cards',\n",
      "       'yellow_cards', 'selected_by_percent', 'now_cost'],\n",
      "      dtype='object')\n",
      "Index(['first_name', 'second_name', 'goals_scored', 'assists', 'total_points',\n",
      "       'minutes', 'goals_conceded', 'creativity', 'influence', 'threat',\n",
      "       'bonus', 'bps', 'ict_index', 'clean_sheets', 'red_cards',\n",
      "       'yellow_cards', 'selected_by_percent', 'now_cost', 'element_type'],\n",
      "      dtype='object')\n"
     ]
    },
    {
     "data": {
      "text/plain": [
       "Index(['first_name', 'second_name', 'goals_scored_x', 'assists_x',\n",
       "       'total_points_x', 'minutes_x', 'goals_conceded_x', 'creativity_x',\n",
       "       'influence_x', 'threat_x', 'bonus_x', 'bps_x', 'ict_index_x',\n",
       "       'clean_sheets_x', 'red_cards_x', 'yellow_cards_x',\n",
       "       'selected_by_percent_x', 'now_cost_x', 'goals_scored_y', 'assists_y',\n",
       "       'total_points_y', 'minutes_y', 'goals_conceded_y', 'creativity_y',\n",
       "       'influence_y', 'threat_y', 'bonus_y', 'bps_y', 'ict_index_y',\n",
       "       'clean_sheets_y', 'red_cards_y', 'yellow_cards_y',\n",
       "       'selected_by_percent_y', 'now_cost_y', 'element_type'],\n",
       "      dtype='object')"
      ]
     },
     "execution_count": 35,
     "metadata": {},
     "output_type": "execute_result"
    }
   ],
   "source": [
    "import pandas as pd\n",
    "pl19_20df = pd.read_csv(playerData19_20[0])\n",
    "pl20_21df = pd.read_csv(playerData20_21[0])\n",
    "print(len(pl19_20df.columns))\n",
    "print(pl19_20df.columns)\n",
    "print(pl20_21df.columns)\n",
    "mergeddf = pl19_20df.merge(pl20_21df,how = 'right',on = ['first_name','second_name'])\n",
    "mergeddf.columns\n"
   ]
  },
  {
   "cell_type": "code",
   "execution_count": 85,
   "metadata": {},
   "outputs": [],
   "source": [
    "class Player():\n",
    "    def __init__(self,team_name,points,cost,name,pos,value):\n",
    "        self.team_name = team_name\n",
    "        self.points = points\n",
    "        self.cost = cost\n",
    "        self.value = value\n",
    "        self.playerName = name\n",
    "        self.position = pos"
   ]
  },
  {
   "cell_type": "code",
   "execution_count": 101,
   "metadata": {},
   "outputs": [],
   "source": [
    "def collect_player_profiles(year=2020):\n",
    "    allPlayer = []\n",
    "    for i in range(len(mergeddf)):\n",
    "        name = mergeddf.loc[i,'first_name'] + mergeddf.loc[i,'second_name']\n",
    "        roi = mergeddf.loc[i,'total_points_x']/(mergeddf.loc[i,'now_cost_y']/10)\n",
    "        p = Player('',mergeddf.loc[i,'total_points_x'],mergeddf.loc[i,'now_cost_y']/10,name,mergeddf.loc[i,'element_type'],roi)\n",
    "#         print(type(p))\n",
    "        allPlayer.append(p)\n",
    "    return allPlayer"
   ]
  },
  {
   "cell_type": "code",
   "execution_count": 1,
   "metadata": {},
   "outputs": [],
   "source": [
    "def select_team():\n",
    "    players = collect_player_profiles(year)\n",
    "    squad_players = get_squad(players)\n",
    "    playing_players = get_playing_11(squad_players)\n",
    "    return playing_players"
   ]
  },
  {
   "cell_type": "code",
   "execution_count": 169,
   "metadata": {},
   "outputs": [],
   "source": [
    "def get_squad(players):\n",
    "    costs = [player.cost for player in players]\n",
    "    points = [player.points for player in players]\n",
    "    values = [player.value for player in players]\n",
    "    value= knapSack(100,costs,points,len(costs)-1)\n",
    "    return value"
   ]
  },
  {
   "cell_type": "code",
   "execution_count": 154,
   "metadata": {},
   "outputs": [],
   "source": [
    "progress = 0"
   ]
  },
  {
   "cell_type": "code",
   "execution_count": 166,
   "metadata": {},
   "outputs": [],
   "source": [
    "def knap_sack(affordable_cost,costs,points,player_index,players_chosen): \n",
    "    # Base Case\n",
    "    if players_chosen == 15:\n",
    "        global progress\n",
    "        progress+=1\n",
    "        print(\"Progress\",progress)\n",
    "    if player_index == -1 or affordable_cost <= 0 or players_chosen == 15: \n",
    "#         print(\"Basecase\")\n",
    "        return 0,[]\n",
    "  \n",
    "    # If weight of the nth item is  \n",
    "    # more than Knapsack of capacity W,  \n",
    "    # then this item cannot be included  \n",
    "    # in the optimal solution \n",
    "    if (costs[player_index] > affordable_cost): \n",
    "#         print(\"2nd base\")\n",
    "        return 0,[]\n",
    "  \n",
    "    # return the maximum of two cases: \n",
    "    # (1) nth item included \n",
    "    # (2) not included \n",
    "    else:\n",
    "        value_1, team_1 = knap_sack( \n",
    "                affordable_cost-costs[player_index],costs,points,player_index-1,players_chosen+1)\n",
    "        team_1.append(player_index)\n",
    "        value_2, team_2 = knap_sack(affordable_cost,costs,points,player_index-1,players_chosen)\n",
    "        if value_1+ points[player_index]> value_2:\n",
    "            return value_1+points[player_index],team_1\n",
    "        else:\n",
    "            return value_2,team_2"
   ]
  },
  {
   "cell_type": "code",
   "execution_count": 170,
   "metadata": {},
   "outputs": [],
   "source": [
    "def knapSack(W, wt, val, n): \n",
    "    K = [[0 for x in range(W + 1)] for x in range(n + 1)] \n",
    "  \n",
    "    # Build table K[][] in bottom up manner \n",
    "    for i in range(n + 1): \n",
    "        for w in range(W + 1): \n",
    "            if i == 0 or w == 0: \n",
    "                K[i][w] = 0\n",
    "            elif wt[i-1] <= w: \n",
    "                K[i][w] = max(val[i-1]  \n",
    "+ K[i-1][int(w-wt[i-1])],  K[i-1][w]) \n",
    "            else: \n",
    "                K[i][w] = K[i-1][w] \n",
    "  \n",
    "    return K[n][W] "
   ]
  },
  {
   "cell_type": "code",
   "execution_count": 156,
   "metadata": {},
   "outputs": [],
   "source": [
    "class Player():\n",
    "    def __init__(self,team_name,points,cost,name,pos,value):\n",
    "        self.team_name = team_name\n",
    "        self.points = points\n",
    "        self.cost = cost\n",
    "        self.value = value\n",
    "        self.playerName = name\n",
    "        self.position = pos"
   ]
  },
  {
   "cell_type": "code",
   "execution_count": 157,
   "metadata": {},
   "outputs": [],
   "source": [
    "players = collect_player_profiles()"
   ]
  },
  {
   "cell_type": "code",
   "execution_count": 171,
   "metadata": {},
   "outputs": [
    {
     "data": {
      "text/plain": [
       "nan"
      ]
     },
     "execution_count": 171,
     "metadata": {},
     "output_type": "execute_result"
    }
   ],
   "source": [
    "get_squad(players)"
   ]
  },
  {
   "cell_type": "code",
   "execution_count": 172,
   "metadata": {},
   "outputs": [
    {
     "name": "stdout",
     "output_type": "stream",
     "text": [
      "/Users/santy/Projects/Fantasy-Premier-League\r\n"
     ]
    }
   ],
   "source": [
    "!pwd"
   ]
  },
  {
   "cell_type": "code",
   "execution_count": null,
   "metadata": {},
   "outputs": [],
   "source": []
  }
 ],
 "metadata": {
  "kernelspec": {
   "display_name": "Python 3",
   "language": "python",
   "name": "python3"
  },
  "language_info": {
   "codemirror_mode": {
    "name": "ipython",
    "version": 3
   },
   "file_extension": ".py",
   "mimetype": "text/x-python",
   "name": "python",
   "nbconvert_exporter": "python",
   "pygments_lexer": "ipython3",
   "version": "3.7.4"
  }
 },
 "nbformat": 4,
 "nbformat_minor": 2
}
